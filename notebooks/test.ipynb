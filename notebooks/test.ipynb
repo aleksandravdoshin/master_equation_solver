{
 "cells": [
  {
   "cell_type": "code",
   "execution_count": 1,
   "metadata": {},
   "outputs": [],
   "source": [
    "import numpy as np\n",
    "import pandas as pd\n",
    "import joblib\n",
    "import os\n",
    "import sys\n",
    "sys.path.insert(0, os.path.abspath('../src'))\n",
    "from some_functions import Eyring_k\n",
    "from reaction_list_creator import *"
   ]
  },
  {
   "cell_type": "code",
   "execution_count": 2,
   "metadata": {},
   "outputs": [
    {
     "data": {
      "text/plain": [
       "[['Cat + C2 <-> CatC2', 10000000.0, 33731.56033636709],\n",
       " ['CatC2 + C2 <-> CatC4', 0.012677749161752789, 2.276702404700201e-05],\n",
       " ['Cat + C4 <-> CatC4', 10000000.0, 1432.9258682677923],\n",
       " ['CatC4 + C2 <-> CatC6', 0.012677749161752789, 2.276702404700201e-05],\n",
       " ['Cat + C6 <-> CatC6', 10000000.0, 1432.9258682677923],\n",
       " ['CatC6 + C2 <-> CatC8', 0.012677749161752789, 2.276702404700201e-05],\n",
       " ['Cat + C8 <-> CatC8', 10000000.0, 1432.9258682677923],\n",
       " ['CatC8 + C2 <-> CatC10', 0.012677749161752789, 2.276702404700201e-05],\n",
       " ['C2 <D> C2_out', 22.79912486495597, 22.79912486495597],\n",
       " ['C4 <D> C4_out', 6.992668289358527, 6.992668289358527],\n",
       " ['C6 <D> C6_out', 2.1447055575435447, 2.1447055575435447],\n",
       " ['C8 <D> C8_out', 0.6577978159722112, 0.6577978159722112],\n",
       " ['C10 <D> C10_out', 0.20175168809344862, 0.20175168809344862]]"
      ]
     },
     "execution_count": 2,
     "metadata": {},
     "output_type": "execute_result"
    }
   ],
   "source": [
    "import joblib\n",
    "\n",
    "ni = joblib.load('../files/processed_data/Ni_energies.pkl')\n",
    "diffusion_pred = pd.read_pickle('../files/processed_data/diffusion_pred.pkl')\n",
    "diffusion_pred['flux'] = diffusion_pred['D'] / (2e-9)\n",
    "diffusion_dict = diffusion_pred.set_index('n')['flux'].to_dict()\n",
    "\n",
    "reaction_dict = {'c2_ins_barrier': None, 'c2_barrier': None, \n",
    "                 'c2_chem_barrier' :None, 'c4_barrier': None, \n",
    "                 'c4_chem_barrier' :None}\n",
    "\n",
    "constants = prepare_constants(10, ni, borders=(1e-7, 1e7), \n",
    "                              diffusion_dict=diffusion_dict, **reaction_dict)\n",
    "\n",
    "make_reaction_list_with_diffusion(10, constants, constants['k_diffusion_dict'])"
   ]
  }
 ],
 "metadata": {
  "kernelspec": {
   "display_name": "base",
   "language": "python",
   "name": "python3"
  },
  "language_info": {
   "codemirror_mode": {
    "name": "ipython",
    "version": 3
   },
   "file_extension": ".py",
   "mimetype": "text/x-python",
   "name": "python",
   "nbconvert_exporter": "python",
   "pygments_lexer": "ipython3",
   "version": "3.11.3"
  }
 },
 "nbformat": 4,
 "nbformat_minor": 2
}
